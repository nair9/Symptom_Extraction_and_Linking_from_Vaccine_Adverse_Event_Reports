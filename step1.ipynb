{
 "cells": [
  {
   "cell_type": "code",
   "execution_count": 2,
   "id": "67707c3b",
   "metadata": {},
   "outputs": [],
   "source": [
    "import os\n",
    "import pandas as pd\n",
    "import numpy as np\n",
    "from tqdm import tqdm as tqdm"
   ]
  },
  {
   "cell_type": "code",
   "execution_count": 8,
   "id": "52a84849",
   "metadata": {},
   "outputs": [
    {
     "name": "stderr",
     "output_type": "stream",
     "text": [
      "2023-11-30 11:45:17 INFO: Checking for updates to resources.json in case models have been updated.  Note: this behavior can be turned off with download_method=None or download_method=DownloadMethod.REUSE_RESOURCES\n"
     ]
    },
    {
     "data": {
      "application/vnd.jupyter.widget-view+json": {
       "model_id": "56f5c1b3ead64058bb7543e1703a32f0",
       "version_major": 2,
       "version_minor": 0
      },
      "text/plain": [
       "Downloading https://raw.githubusercontent.com/stanfordnlp/stanza-resources/main/resources_1.6.0.json:   0%|   …"
      ]
     },
     "metadata": {},
     "output_type": "display_data"
    },
    {
     "name": "stderr",
     "output_type": "stream",
     "text": [
      "2023-11-30 11:45:19 INFO: Loading these models for language: en (English):\n",
      "================================\n",
      "| Processor | Package          |\n",
      "--------------------------------\n",
      "| tokenize  | combined         |\n",
      "| ner       | ontonotes_charlm |\n",
      "================================\n",
      "\n",
      "2023-11-30 11:45:19 INFO: Using device: cpu\n",
      "2023-11-30 11:45:19 INFO: Loading: tokenize\n",
      "2023-11-30 11:45:20 INFO: Loading: ner\n",
      "2023-11-30 11:45:21 INFO: Done loading processors!\n"
     ]
    },
    {
     "name": "stdout",
     "output_type": "stream",
     "text": [
      "entity: Chris Manning\ttype: PERSON\n",
      "entity: Stanford University\ttype: ORG\n",
      "entity: the Bay Area\ttype: LOC\n"
     ]
    }
   ],
   "source": [
    "import stanza"
   ]
  },
  {
   "cell_type": "code",
   "execution_count": 3,
   "id": "ba67502b",
   "metadata": {},
   "outputs": [],
   "source": [
    "path = \"dataset/\""
   ]
  },
  {
   "cell_type": "code",
   "execution_count": 4,
   "id": "0ddba8bc",
   "metadata": {},
   "outputs": [],
   "source": [
    "pd.set_option('display.max_columns',None)"
   ]
  },
  {
   "cell_type": "code",
   "execution_count": 5,
   "id": "b89e33a3",
   "metadata": {},
   "outputs": [],
   "source": [
    "vax_symptoms_data = pd.read_csv(\"VAX_SYMPTOMS_DATA.csv\")"
   ]
  },
  {
   "cell_type": "code",
   "execution_count": 6,
   "id": "49d042fa",
   "metadata": {},
   "outputs": [],
   "source": [
    "vax_vaers_data = pd.read_csv(\"VAX_VAERS_DATA.csv\")"
   ]
  },
  {
   "cell_type": "code",
   "execution_count": 7,
   "id": "8ae2b249",
   "metadata": {},
   "outputs": [
    {
     "data": {
      "text/html": [
       "<div>\n",
       "<style scoped>\n",
       "    .dataframe tbody tr th:only-of-type {\n",
       "        vertical-align: middle;\n",
       "    }\n",
       "\n",
       "    .dataframe tbody tr th {\n",
       "        vertical-align: top;\n",
       "    }\n",
       "\n",
       "    .dataframe thead th {\n",
       "        text-align: right;\n",
       "    }\n",
       "</style>\n",
       "<table border=\"1\" class=\"dataframe\">\n",
       "  <thead>\n",
       "    <tr style=\"text-align: right;\">\n",
       "      <th></th>\n",
       "      <th>Unnamed: 0</th>\n",
       "      <th>VAERS_ID</th>\n",
       "      <th>RECVDATE</th>\n",
       "      <th>STATE</th>\n",
       "      <th>AGE_YRS</th>\n",
       "      <th>CAGE_YR</th>\n",
       "      <th>CAGE_MO</th>\n",
       "      <th>SEX</th>\n",
       "      <th>RPT_DATE</th>\n",
       "      <th>SYMPTOM_TEXT</th>\n",
       "      <th>DIED</th>\n",
       "      <th>DATEDIED</th>\n",
       "      <th>L_THREAT</th>\n",
       "      <th>ER_VISIT</th>\n",
       "      <th>HOSPITAL</th>\n",
       "      <th>HOSPDAYS</th>\n",
       "      <th>X_STAY</th>\n",
       "      <th>DISABLE</th>\n",
       "      <th>RECOVD</th>\n",
       "      <th>VAX_DATE</th>\n",
       "      <th>ONSET_DATE</th>\n",
       "      <th>NUMDAYS</th>\n",
       "      <th>LAB_DATA</th>\n",
       "      <th>V_ADMINBY</th>\n",
       "      <th>V_FUNDBY</th>\n",
       "      <th>OTHER_MEDS</th>\n",
       "      <th>CUR_ILL</th>\n",
       "      <th>HISTORY</th>\n",
       "      <th>PRIOR_VAX</th>\n",
       "      <th>SPLTTYPE</th>\n",
       "      <th>FORM_VERS</th>\n",
       "      <th>TODAYS_DATE</th>\n",
       "      <th>BIRTH_DEFECT</th>\n",
       "      <th>OFC_VISIT</th>\n",
       "      <th>ER_ED_VISIT</th>\n",
       "      <th>ALLERGIES</th>\n",
       "    </tr>\n",
       "  </thead>\n",
       "  <tbody>\n",
       "    <tr>\n",
       "      <th>0</th>\n",
       "      <td>0</td>\n",
       "      <td>1217550</td>\n",
       "      <td>04/16/2021</td>\n",
       "      <td>OH</td>\n",
       "      <td>19.0</td>\n",
       "      <td>NaN</td>\n",
       "      <td>NaN</td>\n",
       "      <td>M</td>\n",
       "      <td>NaN</td>\n",
       "      <td>WOKE UP SWEATING; BODY SORENESS; CHILLS; HEADA...</td>\n",
       "      <td>NaN</td>\n",
       "      <td>NaN</td>\n",
       "      <td>NaN</td>\n",
       "      <td>NaN</td>\n",
       "      <td>NaN</td>\n",
       "      <td>NaN</td>\n",
       "      <td>NaN</td>\n",
       "      <td>NaN</td>\n",
       "      <td>N</td>\n",
       "      <td>NaN</td>\n",
       "      <td>04/10/2021</td>\n",
       "      <td>NaN</td>\n",
       "      <td>Test Date: 20210411; Test Name: Body temperatu...</td>\n",
       "      <td>OTH</td>\n",
       "      <td>NaN</td>\n",
       "      <td>NaN</td>\n",
       "      <td>NaN</td>\n",
       "      <td>Comments: Unknown</td>\n",
       "      <td>NaN</td>\n",
       "      <td>USJNJFOC20210422234</td>\n",
       "      <td>2</td>\n",
       "      <td>04/14/2021</td>\n",
       "      <td>NaN</td>\n",
       "      <td>NaN</td>\n",
       "      <td>NaN</td>\n",
       "      <td>NaN</td>\n",
       "    </tr>\n",
       "    <tr>\n",
       "      <th>1</th>\n",
       "      <td>1</td>\n",
       "      <td>1427815</td>\n",
       "      <td>06/25/2021</td>\n",
       "      <td>NY</td>\n",
       "      <td>76.0</td>\n",
       "      <td>76.0</td>\n",
       "      <td>NaN</td>\n",
       "      <td>F</td>\n",
       "      <td>NaN</td>\n",
       "      <td>I started having bad headaches about two weeks...</td>\n",
       "      <td>NaN</td>\n",
       "      <td>NaN</td>\n",
       "      <td>NaN</td>\n",
       "      <td>NaN</td>\n",
       "      <td>NaN</td>\n",
       "      <td>NaN</td>\n",
       "      <td>NaN</td>\n",
       "      <td>NaN</td>\n",
       "      <td>N</td>\n",
       "      <td>02/27/2021</td>\n",
       "      <td>02/28/2021</td>\n",
       "      <td>1.0</td>\n",
       "      <td>None</td>\n",
       "      <td>OTH</td>\n",
       "      <td>NaN</td>\n",
       "      <td>Ezetimibe; pravastatin; amlodipine besylate; l...</td>\n",
       "      <td>A-fib</td>\n",
       "      <td>A-fib</td>\n",
       "      <td>Influenza Shot</td>\n",
       "      <td>vsafe</td>\n",
       "      <td>2</td>\n",
       "      <td>06/25/2021</td>\n",
       "      <td>NaN</td>\n",
       "      <td>Y</td>\n",
       "      <td>NaN</td>\n",
       "      <td>Pradaxa</td>\n",
       "    </tr>\n",
       "    <tr>\n",
       "      <th>2</th>\n",
       "      <td>2</td>\n",
       "      <td>2162583</td>\n",
       "      <td>03/07/2022</td>\n",
       "      <td>MN</td>\n",
       "      <td>89.0</td>\n",
       "      <td>89.0</td>\n",
       "      <td>NaN</td>\n",
       "      <td>M</td>\n",
       "      <td>NaN</td>\n",
       "      <td>Fully vaccinated and boosted on 10/15/21.  COV...</td>\n",
       "      <td>NaN</td>\n",
       "      <td>NaN</td>\n",
       "      <td>NaN</td>\n",
       "      <td>NaN</td>\n",
       "      <td>Y</td>\n",
       "      <td>NaN</td>\n",
       "      <td>NaN</td>\n",
       "      <td>NaN</td>\n",
       "      <td>NaN</td>\n",
       "      <td>10/15/2021</td>\n",
       "      <td>03/04/2022</td>\n",
       "      <td>140.0</td>\n",
       "      <td>NaN</td>\n",
       "      <td>UNK</td>\n",
       "      <td>NaN</td>\n",
       "      <td>NaN</td>\n",
       "      <td>NaN</td>\n",
       "      <td>NaN</td>\n",
       "      <td>NaN</td>\n",
       "      <td>NaN</td>\n",
       "      <td>2</td>\n",
       "      <td>03/07/2022</td>\n",
       "      <td>NaN</td>\n",
       "      <td>NaN</td>\n",
       "      <td>NaN</td>\n",
       "      <td>NaN</td>\n",
       "    </tr>\n",
       "    <tr>\n",
       "      <th>3</th>\n",
       "      <td>3</td>\n",
       "      <td>2189423</td>\n",
       "      <td>02/24/2022</td>\n",
       "      <td>NY</td>\n",
       "      <td>20.0</td>\n",
       "      <td>20.0</td>\n",
       "      <td>NaN</td>\n",
       "      <td>M</td>\n",
       "      <td>NaN</td>\n",
       "      <td>On December 23, 2021, my son got a blood draw ...</td>\n",
       "      <td>NaN</td>\n",
       "      <td>NaN</td>\n",
       "      <td>NaN</td>\n",
       "      <td>NaN</td>\n",
       "      <td>NaN</td>\n",
       "      <td>NaN</td>\n",
       "      <td>NaN</td>\n",
       "      <td>NaN</td>\n",
       "      <td>U</td>\n",
       "      <td>07/29/2021</td>\n",
       "      <td>12/23/2021</td>\n",
       "      <td>147.0</td>\n",
       "      <td>NaN</td>\n",
       "      <td>PHM</td>\n",
       "      <td>NaN</td>\n",
       "      <td>None</td>\n",
       "      <td>None</td>\n",
       "      <td>None</td>\n",
       "      <td>NaN</td>\n",
       "      <td>NaN</td>\n",
       "      <td>2</td>\n",
       "      <td>01/23/2022</td>\n",
       "      <td>NaN</td>\n",
       "      <td>Y</td>\n",
       "      <td>NaN</td>\n",
       "      <td>None</td>\n",
       "    </tr>\n",
       "    <tr>\n",
       "      <th>4</th>\n",
       "      <td>4</td>\n",
       "      <td>2422917</td>\n",
       "      <td>08/29/2022</td>\n",
       "      <td>FL</td>\n",
       "      <td>67.0</td>\n",
       "      <td>67.0</td>\n",
       "      <td>NaN</td>\n",
       "      <td>M</td>\n",
       "      <td>NaN</td>\n",
       "      <td>patient hospitalized</td>\n",
       "      <td>NaN</td>\n",
       "      <td>NaN</td>\n",
       "      <td>NaN</td>\n",
       "      <td>NaN</td>\n",
       "      <td>Y</td>\n",
       "      <td>13.0</td>\n",
       "      <td>NaN</td>\n",
       "      <td>NaN</td>\n",
       "      <td>U</td>\n",
       "      <td>09/16/2021</td>\n",
       "      <td>08/16/2022</td>\n",
       "      <td>334.0</td>\n",
       "      <td>NaN</td>\n",
       "      <td>PVT</td>\n",
       "      <td>NaN</td>\n",
       "      <td>NaN</td>\n",
       "      <td>NaN</td>\n",
       "      <td>NaN</td>\n",
       "      <td>NaN</td>\n",
       "      <td>NaN</td>\n",
       "      <td>2</td>\n",
       "      <td>08/29/2022</td>\n",
       "      <td>NaN</td>\n",
       "      <td>NaN</td>\n",
       "      <td>NaN</td>\n",
       "      <td>NaN</td>\n",
       "    </tr>\n",
       "  </tbody>\n",
       "</table>\n",
       "</div>"
      ],
      "text/plain": [
       "   Unnamed: 0  VAERS_ID    RECVDATE STATE  AGE_YRS  CAGE_YR  CAGE_MO SEX  \\\n",
       "0           0   1217550  04/16/2021    OH     19.0      NaN      NaN   M   \n",
       "1           1   1427815  06/25/2021    NY     76.0     76.0      NaN   F   \n",
       "2           2   2162583  03/07/2022    MN     89.0     89.0      NaN   M   \n",
       "3           3   2189423  02/24/2022    NY     20.0     20.0      NaN   M   \n",
       "4           4   2422917  08/29/2022    FL     67.0     67.0      NaN   M   \n",
       "\n",
       "  RPT_DATE                                       SYMPTOM_TEXT DIED DATEDIED  \\\n",
       "0      NaN  WOKE UP SWEATING; BODY SORENESS; CHILLS; HEADA...  NaN      NaN   \n",
       "1      NaN  I started having bad headaches about two weeks...  NaN      NaN   \n",
       "2      NaN  Fully vaccinated and boosted on 10/15/21.  COV...  NaN      NaN   \n",
       "3      NaN  On December 23, 2021, my son got a blood draw ...  NaN      NaN   \n",
       "4      NaN                               patient hospitalized  NaN      NaN   \n",
       "\n",
       "  L_THREAT  ER_VISIT HOSPITAL  HOSPDAYS X_STAY DISABLE RECOVD    VAX_DATE  \\\n",
       "0      NaN       NaN      NaN       NaN    NaN     NaN      N         NaN   \n",
       "1      NaN       NaN      NaN       NaN    NaN     NaN      N  02/27/2021   \n",
       "2      NaN       NaN        Y       NaN    NaN     NaN    NaN  10/15/2021   \n",
       "3      NaN       NaN      NaN       NaN    NaN     NaN      U  07/29/2021   \n",
       "4      NaN       NaN        Y      13.0    NaN     NaN      U  09/16/2021   \n",
       "\n",
       "   ONSET_DATE  NUMDAYS                                           LAB_DATA  \\\n",
       "0  04/10/2021      NaN  Test Date: 20210411; Test Name: Body temperatu...   \n",
       "1  02/28/2021      1.0                                               None   \n",
       "2  03/04/2022    140.0                                                NaN   \n",
       "3  12/23/2021    147.0                                                NaN   \n",
       "4  08/16/2022    334.0                                                NaN   \n",
       "\n",
       "  V_ADMINBY V_FUNDBY                                         OTHER_MEDS  \\\n",
       "0       OTH      NaN                                                NaN   \n",
       "1       OTH      NaN  Ezetimibe; pravastatin; amlodipine besylate; l...   \n",
       "2       UNK      NaN                                                NaN   \n",
       "3       PHM      NaN                                               None   \n",
       "4       PVT      NaN                                                NaN   \n",
       "\n",
       "  CUR_ILL            HISTORY       PRIOR_VAX             SPLTTYPE  FORM_VERS  \\\n",
       "0     NaN  Comments: Unknown             NaN  USJNJFOC20210422234          2   \n",
       "1   A-fib              A-fib  Influenza Shot                vsafe          2   \n",
       "2     NaN                NaN             NaN                  NaN          2   \n",
       "3    None               None             NaN                  NaN          2   \n",
       "4     NaN                NaN             NaN                  NaN          2   \n",
       "\n",
       "  TODAYS_DATE BIRTH_DEFECT OFC_VISIT ER_ED_VISIT ALLERGIES  \n",
       "0  04/14/2021          NaN       NaN         NaN       NaN  \n",
       "1  06/25/2021          NaN         Y         NaN   Pradaxa  \n",
       "2  03/07/2022          NaN       NaN         NaN       NaN  \n",
       "3  01/23/2022          NaN         Y         NaN      None  \n",
       "4  08/29/2022          NaN       NaN         NaN       NaN  "
      ]
     },
     "execution_count": 7,
     "metadata": {},
     "output_type": "execute_result"
    }
   ],
   "source": [
    "vax_vaers_data.head()"
   ]
  },
  {
   "cell_type": "code",
   "execution_count": 8,
   "id": "3c085c2a",
   "metadata": {},
   "outputs": [
    {
     "data": {
      "text/plain": [
       "0       WOKE UP SWEATING; BODY SORENESS; CHILLS; HEADA...\n",
       "1       I started having bad headaches about two weeks...\n",
       "2       Fully vaccinated and boosted on 10/15/21.  COV...\n",
       "3       On December 23, 2021, my son got a blood draw ...\n",
       "4                                    patient hospitalized\n",
       "                              ...                        \n",
       "9168    state registry says 15 month old patient recei...\n",
       "9169    Have not been having regular periods anymore; ...\n",
       "9170    Extremely sore arm Chills Slight headache Body...\n",
       "9171    Soreness in my shoulder; This spontaneous case...\n",
       "9172    INAPPROPRIATE ROUTE OF VACCINE ADMINISTRATION;...\n",
       "Name: SYMPTOM_TEXT, Length: 9173, dtype: object"
      ]
     },
     "execution_count": 8,
     "metadata": {},
     "output_type": "execute_result"
    }
   ],
   "source": [
    "vax_vaers_data['SYMPTOM_TEXT']"
   ]
  },
  {
   "cell_type": "code",
   "execution_count": 10,
   "id": "5803e21b",
   "metadata": {},
   "outputs": [
    {
     "data": {
      "application/vnd.jupyter.widget-view+json": {
       "model_id": "17d1e06bdf974dddbca6b9f964f3ddae",
       "version_major": 2,
       "version_minor": 0
      },
      "text/plain": [
       "Downloading https://raw.githubusercontent.com/stanfordnlp/stanza-resources/main/resources_1.6.0.json:   0%|   …"
      ]
     },
     "metadata": {},
     "output_type": "display_data"
    },
    {
     "name": "stderr",
     "output_type": "stream",
     "text": [
      "2023-11-30 11:45:21 INFO: Downloading these customized packages for language: en (English)...\n",
      "====================================\n",
      "| Processor       | Package        |\n",
      "------------------------------------\n",
      "| tokenize        | mimic          |\n",
      "| pos             | mimic_charlm   |\n",
      "| lemma           | mimic_nocharlm |\n",
      "| depparse        | mimic_charlm   |\n",
      "| ner             | i2b2           |\n",
      "| backward_charlm | mimic          |\n",
      "| forward_charlm  | mimic          |\n",
      "| pretrain        | mimic          |\n",
      "====================================\n",
      "\n",
      "2023-11-30 11:45:22 INFO: File exists: C:\\Users\\aishw\\stanza_resources\\en\\tokenize\\mimic.pt\n",
      "2023-11-30 11:45:22 INFO: File exists: C:\\Users\\aishw\\stanza_resources\\en\\pos\\mimic_charlm.pt\n",
      "2023-11-30 11:45:22 INFO: File exists: C:\\Users\\aishw\\stanza_resources\\en\\lemma\\mimic_nocharlm.pt\n",
      "2023-11-30 11:45:23 INFO: File exists: C:\\Users\\aishw\\stanza_resources\\en\\depparse\\mimic_charlm.pt\n",
      "2023-11-30 11:45:24 INFO: File exists: C:\\Users\\aishw\\stanza_resources\\en\\ner\\i2b2.pt\n",
      "2023-11-30 11:45:24 INFO: File exists: C:\\Users\\aishw\\stanza_resources\\en\\backward_charlm\\mimic.pt\n",
      "2023-11-30 11:45:24 INFO: File exists: C:\\Users\\aishw\\stanza_resources\\en\\forward_charlm\\mimic.pt\n",
      "2023-11-30 11:45:24 INFO: File exists: C:\\Users\\aishw\\stanza_resources\\en\\pretrain\\mimic.pt\n",
      "2023-11-30 11:45:24 INFO: Finished downloading models and saved to C:\\Users\\aishw\\stanza_resources.\n"
     ]
    }
   ],
   "source": [
    "stanza.download('en', package='mimic', processors={'ner': 'i2b2'})"
   ]
  },
  {
   "cell_type": "code",
   "execution_count": 11,
   "id": "5bb1828e",
   "metadata": {},
   "outputs": [
    {
     "name": "stderr",
     "output_type": "stream",
     "text": [
      "2023-11-30 11:45:24 INFO: Checking for updates to resources.json in case models have been updated.  Note: this behavior can be turned off with download_method=None or download_method=DownloadMethod.REUSE_RESOURCES\n"
     ]
    },
    {
     "data": {
      "application/vnd.jupyter.widget-view+json": {
       "model_id": "3559855ca78d47d996e01398f05d22a4",
       "version_major": 2,
       "version_minor": 0
      },
      "text/plain": [
       "Downloading https://raw.githubusercontent.com/stanfordnlp/stanza-resources/main/resources_1.6.0.json:   0%|   …"
      ]
     },
     "metadata": {},
     "output_type": "display_data"
    },
    {
     "name": "stderr",
     "output_type": "stream",
     "text": [
      "2023-11-30 11:45:26 INFO: Loading these models for language: en (English):\n",
      "==============================\n",
      "| Processor | Package        |\n",
      "------------------------------\n",
      "| tokenize  | mimic          |\n",
      "| pos       | mimic_charlm   |\n",
      "| lemma     | mimic_nocharlm |\n",
      "| depparse  | mimic_charlm   |\n",
      "| ner       | i2b2           |\n",
      "==============================\n",
      "\n",
      "2023-11-30 11:45:26 INFO: Using device: cpu\n",
      "2023-11-30 11:45:26 INFO: Loading: tokenize\n",
      "2023-11-30 11:45:26 INFO: Loading: pos\n",
      "2023-11-30 11:45:26 INFO: Loading: lemma\n",
      "2023-11-30 11:45:26 INFO: Loading: depparse\n",
      "2023-11-30 11:45:27 INFO: Loading: ner\n",
      "2023-11-30 11:45:27 INFO: Done loading processors!\n"
     ]
    }
   ],
   "source": [
    "nlp_pipe = stanza.Pipeline('en', package='mimic', processors={'ner': 'i2b2'})"
   ]
  },
  {
   "cell_type": "code",
   "execution_count": 9,
   "id": "2bdbab8c",
   "metadata": {},
   "outputs": [
    {
     "data": {
      "text/plain": [
       "\"WOKE UP SWEATING; BODY SORENESS; CHILLS; HEADACHE; FEVER; THREW UP ABOUT EIGHT TIMES; TROUBLE BREATHING; This spontaneous report received from a parent concerned a 19 year old male. The patient's weight, height, and medical history were not reported. The patient received covid-19 vaccine ad26.cov2.s (suspension for injection, route of admin not reported, batch number: Unknown) dose was not reported, administered on 10-APR-2021 for prophylactic vaccination. The batch number was not reported and it has been requested. No concomitant medications were reported.  On 10-APR-2021, the subject experienced threw up about eight times. On 10-APR-2021, the subject experienced trouble breathing. On 10-APR-2021, the subject experienced body soreness. On 10-APR-2021, the subject experienced chills. On 10-APR-2021, the subject experienced headache. On 10-APR-2021, the subject experienced fever. On 11-APR-2021, the subject experienced woke up sweating.  Laboratory data included: Body temperature (NR: not provided) 102. The action taken with covid-19 vaccine ad26.cov2.s was not applicable. The patient recovered from threw up about eight times, trouble breathing, chills, and fever on 11-APR-2021, and woke up sweating on 12-APR-2021, was recovering from body soreness, and had not recovered from headache. This report was non-serious.\""
      ]
     },
     "execution_count": 9,
     "metadata": {},
     "output_type": "execute_result"
    }
   ],
   "source": [
    "vax_vaers_data['SYMPTOM_TEXT'][0]"
   ]
  },
  {
   "cell_type": "code",
   "execution_count": 15,
   "id": "76caa744",
   "metadata": {},
   "outputs": [],
   "source": [
    "doc = nlp_pipe(vax_vaers_data['SYMPTOM_TEXT'][0])"
   ]
  },
  {
   "cell_type": "code",
   "execution_count": 17,
   "id": "188eb7f8",
   "metadata": {},
   "outputs": [
    {
     "name": "stdout",
     "output_type": "stream",
     "text": [
      "SWEATING\tPROBLEM\n",
      "BODY SORENESS\tPROBLEM\n",
      "CHILLS\tPROBLEM\n",
      "HEADACHE\tPROBLEM\n",
      "FEVER\tPROBLEM\n",
      "TROUBLE BREATHING\tPROBLEM\n",
      "The patient's weight\tTEST\n",
      "height\tTEST\n",
      "covid-19 vaccine ad26.cov2.s\tTREATMENT\n",
      "admin\tTREATMENT\n",
      "prophylactic vaccination\tTREATMENT\n",
      "The batch number\tTEST\n",
      "concomitant medications\tTREATMENT\n",
      "trouble breathing\tPROBLEM\n",
      "body soreness\tPROBLEM\n",
      "chills\tPROBLEM\n",
      "headache\tPROBLEM\n",
      "fever\tPROBLEM\n",
      "sweating\tPROBLEM\n",
      "Laboratory data\tTEST\n",
      "Body temperature\tTEST\n",
      "covid-19 vaccine ad26.cov2.s\tTREATMENT\n",
      "trouble breathing\tPROBLEM\n",
      "chills\tPROBLEM\n",
      "fever\tPROBLEM\n",
      "sweating\tPROBLEM\n",
      "body soreness\tPROBLEM\n",
      "headache\tPROBLEM\n"
     ]
    }
   ],
   "source": [
    "for ent in doc.entities:\n",
    "    print(f'{ent.text}\\t{ent.type}')"
   ]
  },
  {
   "cell_type": "code",
   "execution_count": 45,
   "id": "cc16b0ad",
   "metadata": {},
   "outputs": [],
   "source": [
    "def symptom_extractor(sentence):\n",
    "    doc = nlp_pipe(sentence)\n",
    "    symptoms = []\n",
    "    for ent in doc.entities:\n",
    "        if ent.type=='PROBLEM':\n",
    "#             print(f'{ent.text}')\n",
    "            symptoms.append(ent.text)\n",
    "#     print(symptoms)\n",
    "    return symptoms"
   ]
  },
  {
   "cell_type": "code",
   "execution_count": 48,
   "id": "117de836",
   "metadata": {},
   "outputs": [
    {
     "name": "stderr",
     "output_type": "stream",
     "text": [
      "100%|██████████| 9162/9162 [7:22:01<00:00,  2.89s/it]   \n"
     ]
    }
   ],
   "source": [
    "symptoms_list = []\n",
    "for i in tqdm(vax_vaers_data['SYMPTOM_TEXT'].dropna(), total=len(vax_vaers_data['SYMPTOM_TEXT'].dropna()), leave=True):\n",
    "    symptoms_list.extend(symptom_extractor(i))\n",
    "#     break"
   ]
  },
  {
   "cell_type": "code",
   "execution_count": 32,
   "id": "1a5a11a0",
   "metadata": {},
   "outputs": [
    {
     "data": {
      "text/plain": [
       "['SWEATING',\n",
       " 'BODY SORENESS',\n",
       " 'CHILLS',\n",
       " 'HEADACHE',\n",
       " 'FEVER',\n",
       " 'TROUBLE BREATHING',\n",
       " 'trouble breathing',\n",
       " 'body soreness',\n",
       " 'chills',\n",
       " 'headache',\n",
       " 'fever',\n",
       " 'sweating',\n",
       " 'trouble breathing',\n",
       " 'chills',\n",
       " 'fever',\n",
       " 'sweating',\n",
       " 'body soreness',\n",
       " 'headache']"
      ]
     },
     "execution_count": 32,
     "metadata": {},
     "output_type": "execute_result"
    }
   ],
   "source": [
    "symptoms_list"
   ]
  },
  {
   "cell_type": "code",
   "execution_count": 52,
   "id": "25a131db",
   "metadata": {},
   "outputs": [],
   "source": [
    "import json\n",
    "with open(\"extracted_symptoms_list.json\",'w') as op_file:\n",
    "    json.dump(list(symptoms_list),op_file)"
   ]
  },
  {
   "cell_type": "code",
   "execution_count": null,
   "id": "20747fd4",
   "metadata": {},
   "outputs": [],
   "source": []
  }
 ],
 "metadata": {
  "kernelspec": {
   "display_name": "Python 3 (ipykernel)",
   "language": "python",
   "name": "python3"
  },
  "language_info": {
   "codemirror_mode": {
    "name": "ipython",
    "version": 3
   },
   "file_extension": ".py",
   "mimetype": "text/x-python",
   "name": "python",
   "nbconvert_exporter": "python",
   "pygments_lexer": "ipython3",
   "version": "3.9.12"
  }
 },
 "nbformat": 4,
 "nbformat_minor": 5
}
