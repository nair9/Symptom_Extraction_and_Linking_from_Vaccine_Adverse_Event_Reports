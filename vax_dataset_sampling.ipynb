{
 "cells": [
  {
   "cell_type": "code",
   "execution_count": 105,
   "id": "ce042caa",
   "metadata": {},
   "outputs": [],
   "source": [
    "import pandas as pd\n",
    "import os"
   ]
  },
  {
   "cell_type": "code",
   "execution_count": 159,
   "id": "3521f78c",
   "metadata": {},
   "outputs": [],
   "source": [
    "data = pd.read_csv(\"COVID_DATASET.csv\")"
   ]
  },
  {
   "cell_type": "code",
   "execution_count": 135,
   "id": "a0a8dd4d",
   "metadata": {},
   "outputs": [
    {
     "name": "stdout",
     "output_type": "stream",
     "text": [
      "<class 'pandas.core.frame.DataFrame'>\n",
      "RangeIndex: 1053977 entries, 0 to 1053976\n",
      "Data columns (total 10 columns):\n",
      " #   Column           Non-Null Count    Dtype \n",
      "---  ------           --------------    ----- \n",
      " 0   Unnamed: 0       1053977 non-null  int64 \n",
      " 1   VAERS_ID         1053977 non-null  int64 \n",
      " 2   VAX_TYPE         1053977 non-null  object\n",
      " 3   VAX_MANU         1053977 non-null  object\n",
      " 4   VAX_LOT          752501 non-null   object\n",
      " 5   VAX_DOSE_SERIES  1049755 non-null  object\n",
      " 6   VAX_ROUTE        800482 non-null   object\n",
      " 7   VAX_SITE         750362 non-null   object\n",
      " 8   VAX_NAME         1053977 non-null  object\n",
      " 9   YEAR             1053977 non-null  int64 \n",
      "dtypes: int64(3), object(7)\n",
      "memory usage: 80.4+ MB\n"
     ]
    }
   ],
   "source": [
    "data.info()"
   ]
  },
  {
   "cell_type": "code",
   "execution_count": 136,
   "id": "e3980f5d",
   "metadata": {},
   "outputs": [
    {
     "data": {
      "text/plain": [
       "(1053977, 10)"
      ]
     },
     "execution_count": 136,
     "metadata": {},
     "output_type": "execute_result"
    }
   ],
   "source": [
    "data.shape"
   ]
  },
  {
   "cell_type": "code",
   "execution_count": 137,
   "id": "c012a24b",
   "metadata": {},
   "outputs": [
    {
     "data": {
      "text/plain": [
       "Unnamed: 0          int64\n",
       "VAERS_ID            int64\n",
       "VAX_TYPE           object\n",
       "VAX_MANU           object\n",
       "VAX_LOT            object\n",
       "VAX_DOSE_SERIES    object\n",
       "VAX_ROUTE          object\n",
       "VAX_SITE           object\n",
       "VAX_NAME           object\n",
       "YEAR                int64\n",
       "dtype: object"
      ]
     },
     "execution_count": 137,
     "metadata": {},
     "output_type": "execute_result"
    }
   ],
   "source": [
    "data.dtypes"
   ]
  },
  {
   "cell_type": "code",
   "execution_count": 138,
   "id": "ce294268",
   "metadata": {},
   "outputs": [
    {
     "data": {
      "text/plain": [
       "Unnamed: 0         1053977\n",
       "VAERS_ID            994955\n",
       "VAX_TYPE                 2\n",
       "VAX_MANU                 5\n",
       "VAX_LOT              41796\n",
       "VAX_DOSE_SERIES          8\n",
       "VAX_ROUTE                9\n",
       "VAX_SITE                11\n",
       "VAX_NAME                 7\n",
       "YEAR                     8\n",
       "dtype: int64"
      ]
     },
     "execution_count": 138,
     "metadata": {},
     "output_type": "execute_result"
    }
   ],
   "source": [
    "data.nunique()"
   ]
  },
  {
   "cell_type": "code",
   "execution_count": 139,
   "id": "2a0cbbca",
   "metadata": {},
   "outputs": [
    {
     "data": {
      "text/plain": [
       "Index(['Unnamed: 0', 'VAERS_ID', 'VAX_TYPE', 'VAX_MANU', 'VAX_LOT',\n",
       "       'VAX_DOSE_SERIES', 'VAX_ROUTE', 'VAX_SITE', 'VAX_NAME', 'YEAR'],\n",
       "      dtype='object')"
      ]
     },
     "execution_count": 139,
     "metadata": {},
     "output_type": "execute_result"
    }
   ],
   "source": [
    "data.columns"
   ]
  },
  {
   "cell_type": "code",
   "execution_count": 140,
   "id": "a70f4a30",
   "metadata": {},
   "outputs": [
    {
     "data": {
      "text/plain": [
       "COVID19 (COVID19 (PFIZER-BIONTECH))             471883\n",
       "COVID19 (COVID19 (MODERNA))                     462849\n",
       "COVID19 (COVID19 (JANSSEN))                      73094\n",
       "COVID19 (COVID19 (PFIZER-BIONTECH BIVALENT))     22571\n",
       "COVID19 (COVID19 (MODERNA BIVALENT))             16333\n",
       "COVID19 (COVID19 (UNKNOWN))                       6886\n",
       "COVID19 (COVID19 (NOVAVAX))                        361\n",
       "Name: VAX_NAME, dtype: int64"
      ]
     },
     "execution_count": 140,
     "metadata": {},
     "output_type": "execute_result"
    }
   ],
   "source": [
    "data[\"VAX_NAME\"].value_counts()"
   ]
  },
  {
   "cell_type": "code",
   "execution_count": 141,
   "id": "34183697",
   "metadata": {},
   "outputs": [
    {
     "data": {
      "text/plain": [
       "array([2022, 2023, 2021, 2001, 2011, 2012, 2013, 2020], dtype=int64)"
      ]
     },
     "execution_count": 141,
     "metadata": {},
     "output_type": "execute_result"
    }
   ],
   "source": [
    "data[\"YEAR\"].unique()"
   ]
  },
  {
   "cell_type": "code",
   "execution_count": 142,
   "id": "d2038bd3",
   "metadata": {},
   "outputs": [
    {
     "data": {
      "text/plain": [
       "2021    742220\n",
       "2022    232416\n",
       "2023     68938\n",
       "2020     10398\n",
       "2012         2\n",
       "2001         1\n",
       "2011         1\n",
       "2013         1\n",
       "Name: YEAR, dtype: int64"
      ]
     },
     "execution_count": 142,
     "metadata": {},
     "output_type": "execute_result"
    }
   ],
   "source": [
    "data[\"YEAR\"].value_counts()"
   ]
  },
  {
   "cell_type": "code",
   "execution_count": 182,
   "id": "8b5830c5",
   "metadata": {},
   "outputs": [],
   "source": [
    "rows_to_drop = []"
   ]
  },
  {
   "cell_type": "code",
   "execution_count": 183,
   "id": "34cb17ae",
   "metadata": {},
   "outputs": [],
   "source": [
    "rows_to_drop.extend(data[data[\"YEAR\"]==2001].index)"
   ]
  },
  {
   "cell_type": "code",
   "execution_count": 184,
   "id": "050483f8",
   "metadata": {},
   "outputs": [],
   "source": [
    "rows_to_drop.extend(data[data[\"YEAR\"]==2011].index)"
   ]
  },
  {
   "cell_type": "code",
   "execution_count": 185,
   "id": "ad9df93e",
   "metadata": {},
   "outputs": [],
   "source": [
    "rows_to_drop.extend(data[data[\"YEAR\"]==2012].index)"
   ]
  },
  {
   "cell_type": "code",
   "execution_count": 186,
   "id": "550fa1d9",
   "metadata": {},
   "outputs": [],
   "source": [
    "rows_to_drop.extend(data[data[\"YEAR\"]==2013].index)"
   ]
  },
  {
   "cell_type": "code",
   "execution_count": 187,
   "id": "b0949669",
   "metadata": {},
   "outputs": [
    {
     "data": {
      "text/plain": [
       "[16694, 16695, 16696, 479543, 16697]"
      ]
     },
     "execution_count": 187,
     "metadata": {},
     "output_type": "execute_result"
    }
   ],
   "source": [
    "rows_to_drop"
   ]
  },
  {
   "cell_type": "code",
   "execution_count": 188,
   "id": "ca46dc82",
   "metadata": {},
   "outputs": [],
   "source": [
    "data.drop(index=rows_to_drop,inplace=True)"
   ]
  },
  {
   "cell_type": "code",
   "execution_count": 189,
   "id": "a6adb822",
   "metadata": {},
   "outputs": [
    {
     "data": {
      "text/plain": [
       "2021    742220\n",
       "2022    232416\n",
       "2023     68938\n",
       "2020     10398\n",
       "Name: YEAR, dtype: int64"
      ]
     },
     "execution_count": 189,
     "metadata": {},
     "output_type": "execute_result"
    }
   ],
   "source": [
    "data[\"YEAR\"].value_counts()"
   ]
  },
  {
   "cell_type": "code",
   "execution_count": 190,
   "id": "eb5aa374",
   "metadata": {},
   "outputs": [
    {
     "data": {
      "text/plain": [
       "2021    742220\n",
       "2022    232416\n",
       "2023     68938\n",
       "2020     10398\n",
       "Name: YEAR, dtype: int64"
      ]
     },
     "execution_count": 190,
     "metadata": {},
     "output_type": "execute_result"
    }
   ],
   "source": [
    "data[\"YEAR\"].value_counts()"
   ]
  },
  {
   "cell_type": "code",
   "execution_count": 191,
   "id": "834186ef",
   "metadata": {},
   "outputs": [],
   "source": [
    "sample_size = 10000"
   ]
  },
  {
   "cell_type": "code",
   "execution_count": 192,
   "id": "d9d5f105",
   "metadata": {},
   "outputs": [],
   "source": [
    "mini_data = data.sample(n=sample_size, random_state=1234)"
   ]
  },
  {
   "cell_type": "code",
   "execution_count": 193,
   "id": "9b35198d",
   "metadata": {},
   "outputs": [
    {
     "data": {
      "text/plain": [
       "(10000, 10)"
      ]
     },
     "execution_count": 193,
     "metadata": {},
     "output_type": "execute_result"
    }
   ],
   "source": [
    "mini_data.shape"
   ]
  },
  {
   "cell_type": "code",
   "execution_count": 194,
   "id": "750a976c",
   "metadata": {},
   "outputs": [
    {
     "name": "stdout",
     "output_type": "stream",
     "text": [
      "<class 'pandas.core.frame.DataFrame'>\n",
      "Int64Index: 10000 entries, 1000955 to 7156\n",
      "Data columns (total 10 columns):\n",
      " #   Column           Non-Null Count  Dtype \n",
      "---  ------           --------------  ----- \n",
      " 0   Unnamed: 0       10000 non-null  int64 \n",
      " 1   VAERS_ID         10000 non-null  int64 \n",
      " 2   VAX_TYPE         10000 non-null  object\n",
      " 3   VAX_MANU         10000 non-null  object\n",
      " 4   VAX_LOT          7040 non-null   object\n",
      " 5   VAX_DOSE_SERIES  9965 non-null   object\n",
      " 6   VAX_ROUTE        7511 non-null   object\n",
      " 7   VAX_SITE         7041 non-null   object\n",
      " 8   VAX_NAME         10000 non-null  object\n",
      " 9   YEAR             10000 non-null  int64 \n",
      "dtypes: int64(3), object(7)\n",
      "memory usage: 859.4+ KB\n"
     ]
    }
   ],
   "source": [
    "mini_data.info()"
   ]
  },
  {
   "cell_type": "code",
   "execution_count": 196,
   "id": "d1ab1ad9",
   "metadata": {},
   "outputs": [
    {
     "data": {
      "text/plain": [
       "COVID19 (COVID19 (PFIZER-BIONTECH))             4423\n",
       "COVID19 (COVID19 (MODERNA))                     4408\n",
       "COVID19 (COVID19 (JANSSEN))                      736\n",
       "COVID19 (COVID19 (PFIZER-BIONTECH BIVALENT))     209\n",
       "COVID19 (COVID19 (MODERNA BIVALENT))             159\n",
       "COVID19 (COVID19 (UNKNOWN))                       63\n",
       "COVID19 (COVID19 (NOVAVAX))                        2\n",
       "Name: VAX_NAME, dtype: int64"
      ]
     },
     "execution_count": 196,
     "metadata": {},
     "output_type": "execute_result"
    }
   ],
   "source": [
    "mini_data[\"VAX_NAME\"].value_counts()"
   ]
  },
  {
   "cell_type": "code",
   "execution_count": 197,
   "id": "0cf4400b",
   "metadata": {},
   "outputs": [
    {
     "data": {
      "text/plain": [
       "2021    7056\n",
       "2022    2223\n",
       "2023     628\n",
       "2020      93\n",
       "Name: YEAR, dtype: int64"
      ]
     },
     "execution_count": 197,
     "metadata": {},
     "output_type": "execute_result"
    }
   ],
   "source": [
    "mini_data[\"YEAR\"].value_counts()"
   ]
  },
  {
   "cell_type": "code",
   "execution_count": 198,
   "id": "3d0a45f9",
   "metadata": {},
   "outputs": [],
   "source": [
    "mini_data.to_csv(\"SAMPLED_DATA.csv\")"
   ]
  }
 ],
 "metadata": {
  "kernelspec": {
   "display_name": "Python 3 (ipykernel)",
   "language": "python",
   "name": "python3"
  },
  "language_info": {
   "codemirror_mode": {
    "name": "ipython",
    "version": 3
   },
   "file_extension": ".py",
   "mimetype": "text/x-python",
   "name": "python",
   "nbconvert_exporter": "python",
   "pygments_lexer": "ipython3",
   "version": "3.9.12"
  }
 },
 "nbformat": 4,
 "nbformat_minor": 5
}
