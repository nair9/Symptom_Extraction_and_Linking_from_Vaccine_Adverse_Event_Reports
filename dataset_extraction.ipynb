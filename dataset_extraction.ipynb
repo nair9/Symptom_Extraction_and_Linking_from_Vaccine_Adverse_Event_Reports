{
 "cells": [
  {
   "cell_type": "code",
   "execution_count": 128,
   "id": "800a8987",
   "metadata": {},
   "outputs": [],
   "source": [
    "import pandas as pd\n",
    "import os"
   ]
  },
  {
   "cell_type": "code",
   "execution_count": 129,
   "id": "3c49525b",
   "metadata": {},
   "outputs": [],
   "source": [
    "path = 'dataset/'"
   ]
  },
  {
   "cell_type": "code",
   "execution_count": 130,
   "id": "5ac8f95e",
   "metadata": {},
   "outputs": [],
   "source": [
    "comb_data = pd.DataFrame()\n",
    "\n",
    "for i in os.listdir(path):\n",
    "#     print(i)\n",
    "    if \"VAX\" in i:\n",
    "        data = pd.read_csv(os.path.join(path,i), encoding='ISO-8859-1')\n",
    "        try:\n",
    "            data['YEAR'] = int(i[:4])\n",
    "        except:\n",
    "            continue\n",
    "        comb_data = pd.concat([comb_data, data], axis=0, ignore_index=True)\n",
    "#     break"
   ]
  },
  {
   "cell_type": "code",
   "execution_count": 131,
   "id": "c7238177",
   "metadata": {},
   "outputs": [
    {
     "data": {
      "text/plain": [
       "(2274643, 9)"
      ]
     },
     "execution_count": 131,
     "metadata": {},
     "output_type": "execute_result"
    }
   ],
   "source": [
    "comb_data.shape"
   ]
  },
  {
   "cell_type": "code",
   "execution_count": 132,
   "id": "142e478d",
   "metadata": {},
   "outputs": [
    {
     "data": {
      "text/plain": [
       "RangeIndex(start=0, stop=2274643, step=1)"
      ]
     },
     "execution_count": 132,
     "metadata": {},
     "output_type": "execute_result"
    }
   ],
   "source": [
    "comb_data.index"
   ]
  },
  {
   "cell_type": "code",
   "execution_count": 133,
   "id": "1591fd08",
   "metadata": {},
   "outputs": [
    {
     "data": {
      "text/plain": [
       "VAERS_ID            int64\n",
       "VAX_TYPE           object\n",
       "VAX_MANU           object\n",
       "VAX_LOT            object\n",
       "VAX_DOSE_SERIES    object\n",
       "VAX_ROUTE          object\n",
       "VAX_SITE           object\n",
       "VAX_NAME           object\n",
       "YEAR                int64\n",
       "dtype: object"
      ]
     },
     "execution_count": 133,
     "metadata": {},
     "output_type": "execute_result"
    }
   ],
   "source": [
    "comb_data.dtypes"
   ]
  },
  {
   "cell_type": "code",
   "execution_count": 134,
   "id": "571b2d0b",
   "metadata": {},
   "outputs": [
    {
     "data": {
      "text/plain": [
       "VAERS_ID           1809245\n",
       "VAX_TYPE               100\n",
       "VAX_MANU                46\n",
       "VAX_LOT             190291\n",
       "VAX_DOSE_SERIES          8\n",
       "VAX_ROUTE               20\n",
       "VAX_SITE                12\n",
       "VAX_NAME               245\n",
       "YEAR                    34\n",
       "dtype: int64"
      ]
     },
     "execution_count": 134,
     "metadata": {},
     "output_type": "execute_result"
    }
   ],
   "source": [
    "comb_data.nunique()"
   ]
  },
  {
   "cell_type": "code",
   "execution_count": 135,
   "id": "324a849f",
   "metadata": {},
   "outputs": [
    {
     "name": "stdout",
     "output_type": "stream",
     "text": [
      "<class 'pandas.core.frame.DataFrame'>\n",
      "RangeIndex: 2274643 entries, 0 to 2274642\n",
      "Data columns (total 9 columns):\n",
      " #   Column           Dtype \n",
      "---  ------           ----- \n",
      " 0   VAERS_ID         int64 \n",
      " 1   VAX_TYPE         object\n",
      " 2   VAX_MANU         object\n",
      " 3   VAX_LOT          object\n",
      " 4   VAX_DOSE_SERIES  object\n",
      " 5   VAX_ROUTE        object\n",
      " 6   VAX_SITE         object\n",
      " 7   VAX_NAME         object\n",
      " 8   YEAR             int64 \n",
      "dtypes: int64(2), object(7)\n",
      "memory usage: 156.2+ MB\n"
     ]
    }
   ],
   "source": [
    "comb_data.info()"
   ]
  },
  {
   "cell_type": "code",
   "execution_count": 136,
   "id": "fc44411b",
   "metadata": {},
   "outputs": [
    {
     "data": {
      "text/plain": [
       "Index(['VAERS_ID', 'VAX_TYPE', 'VAX_MANU', 'VAX_LOT', 'VAX_DOSE_SERIES',\n",
       "       'VAX_ROUTE', 'VAX_SITE', 'VAX_NAME', 'YEAR'],\n",
       "      dtype='object')"
      ]
     },
     "execution_count": 136,
     "metadata": {},
     "output_type": "execute_result"
    }
   ],
   "source": [
    "comb_data.columns"
   ]
  },
  {
   "cell_type": "code",
   "execution_count": 139,
   "id": "86425264",
   "metadata": {},
   "outputs": [
    {
     "data": {
      "text/plain": [
       "array([1990, 1991, 1992, 1993, 1994, 1995, 1996, 1997, 1998, 1999, 2000,\n",
       "       2001, 2002, 2003, 2004, 2005, 2006, 2007, 2008, 2009, 2010, 2011,\n",
       "       2012, 2013, 2014, 2015, 2016, 2017, 2018, 2019, 2020, 2021, 2022,\n",
       "       2023], dtype=int64)"
      ]
     },
     "execution_count": 139,
     "metadata": {},
     "output_type": "execute_result"
    }
   ],
   "source": [
    "comb_data['YEAR'].unique()"
   ]
  },
  {
   "cell_type": "code",
   "execution_count": 140,
   "id": "16f6ceaa",
   "metadata": {},
   "outputs": [
    {
     "data": {
      "text/plain": [
       "COVID19 (COVID19 (PFIZER-BIONTECH))    471883\n",
       "COVID19 (COVID19 (MODERNA))            462849\n",
       "VARICELLA (VARIVAX)                     80711\n",
       "MEASLES + MUMPS + RUBELLA (MMR II)      73853\n",
       "COVID19 (COVID19 (JANSSEN))             73094\n",
       "                                        ...  \n",
       "INFLUENZA (SEASONAL) (NILGRIP)              1\n",
       "HEPBC (NO BRAND NAME)                       1\n",
       "TDAP + IPV (DOMESTIC)                       1\n",
       "INFLUENZA (SEASONAL) (QIV QUEBEC)           1\n",
       "FSME-IMMUN. (NO BRAND NAME)                 1\n",
       "Name: VAX_NAME, Length: 245, dtype: int64"
      ]
     },
     "execution_count": 140,
     "metadata": {},
     "output_type": "execute_result"
    }
   ],
   "source": [
    "comb_data[\"VAX_NAME\"].value_counts()"
   ]
  },
  {
   "cell_type": "code",
   "execution_count": 141,
   "id": "a048cd98",
   "metadata": {},
   "outputs": [],
   "source": [
    "covid_list = list({x for x in comb_data[\"VAX_NAME\"] if \"COVID\" in x})"
   ]
  },
  {
   "cell_type": "code",
   "execution_count": 142,
   "id": "c15dad7f",
   "metadata": {},
   "outputs": [
    {
     "data": {
      "text/plain": [
       "['COVID19 (COVID19 (NOVAVAX))',\n",
       " 'COVID19 (COVID19 (MODERNA BIVALENT))',\n",
       " 'COVID19 (COVID19 (MODERNA))',\n",
       " 'COVID19 (COVID19 (PFIZER-BIONTECH))',\n",
       " 'COVID19 (COVID19 (UNKNOWN))',\n",
       " 'COVID19 (COVID19 (PFIZER-BIONTECH BIVALENT))',\n",
       " 'COVID19 (COVID19 (JANSSEN))']"
      ]
     },
     "execution_count": 142,
     "metadata": {},
     "output_type": "execute_result"
    }
   ],
   "source": [
    "covid_list"
   ]
  },
  {
   "cell_type": "code",
   "execution_count": 143,
   "id": "dc5d7a94",
   "metadata": {},
   "outputs": [],
   "source": [
    "covid_data = pd.DataFrame()"
   ]
  },
  {
   "cell_type": "code",
   "execution_count": 144,
   "id": "de94a085",
   "metadata": {},
   "outputs": [],
   "source": [
    "for i in covid_list:\n",
    "    covid_data = pd.concat([covid_data, comb_data[comb_data[\"VAX_NAME\"]==i]], axis=0, ignore_index=True)    "
   ]
  },
  {
   "cell_type": "code",
   "execution_count": 145,
   "id": "602b8967",
   "metadata": {},
   "outputs": [
    {
     "data": {
      "text/plain": [
       "COVID19 (COVID19 (PFIZER-BIONTECH))             471883\n",
       "COVID19 (COVID19 (MODERNA))                     462849\n",
       "COVID19 (COVID19 (JANSSEN))                      73094\n",
       "COVID19 (COVID19 (PFIZER-BIONTECH BIVALENT))     22571\n",
       "COVID19 (COVID19 (MODERNA BIVALENT))             16333\n",
       "COVID19 (COVID19 (UNKNOWN))                       6886\n",
       "COVID19 (COVID19 (NOVAVAX))                        361\n",
       "Name: VAX_NAME, dtype: int64"
      ]
     },
     "execution_count": 145,
     "metadata": {},
     "output_type": "execute_result"
    }
   ],
   "source": [
    "covid_data[\"VAX_NAME\"].value_counts()"
   ]
  },
  {
   "cell_type": "code",
   "execution_count": 146,
   "id": "91a5ea29",
   "metadata": {},
   "outputs": [
    {
     "data": {
      "text/plain": [
       "(1053977, 9)"
      ]
     },
     "execution_count": 146,
     "metadata": {},
     "output_type": "execute_result"
    }
   ],
   "source": [
    "covid_data.shape"
   ]
  },
  {
   "cell_type": "code",
   "execution_count": 147,
   "id": "fdece57a",
   "metadata": {},
   "outputs": [
    {
     "data": {
      "text/plain": [
       "array(['COVID19', 'COVID19-2'], dtype=object)"
      ]
     },
     "execution_count": 147,
     "metadata": {},
     "output_type": "execute_result"
    }
   ],
   "source": [
    "covid_data[\"VAX_TYPE\"].unique()"
   ]
  },
  {
   "cell_type": "code",
   "execution_count": 148,
   "id": "2b6148a1",
   "metadata": {},
   "outputs": [
    {
     "data": {
      "text/plain": [
       "VAERS_ID           994955\n",
       "VAX_TYPE                2\n",
       "VAX_MANU                5\n",
       "VAX_LOT             41796\n",
       "VAX_DOSE_SERIES         8\n",
       "VAX_ROUTE               9\n",
       "VAX_SITE               11\n",
       "VAX_NAME                7\n",
       "YEAR                    8\n",
       "dtype: int64"
      ]
     },
     "execution_count": 148,
     "metadata": {},
     "output_type": "execute_result"
    }
   ],
   "source": [
    "covid_data.nunique()"
   ]
  },
  {
   "cell_type": "code",
   "execution_count": 151,
   "id": "4b11f0da",
   "metadata": {},
   "outputs": [
    {
     "data": {
      "text/plain": [
       "2021    742220\n",
       "2022    232416\n",
       "2023     68938\n",
       "2020     10398\n",
       "2012         2\n",
       "2001         1\n",
       "2011         1\n",
       "2013         1\n",
       "Name: YEAR, dtype: int64"
      ]
     },
     "execution_count": 151,
     "metadata": {},
     "output_type": "execute_result"
    }
   ],
   "source": [
    "covid_data[\"YEAR\"].value_counts()"
   ]
  },
  {
   "cell_type": "code",
   "execution_count": 152,
   "id": "4219222d",
   "metadata": {},
   "outputs": [],
   "source": [
    "covid_data.to_csv(\"COVID_DATASET.csv\")"
   ]
  },
  {
   "cell_type": "code",
   "execution_count": 156,
   "id": "b1d1e3f2",
   "metadata": {},
   "outputs": [],
   "source": [
    "covid_data_pfizer = covid_data[covid_data[\"VAX_NAME\"]==\"COVID19 (COVID19 (PFIZER-BIONTECH BIVALENT))\"]"
   ]
  },
  {
   "cell_type": "code",
   "execution_count": 157,
   "id": "0d82e8ae",
   "metadata": {},
   "outputs": [
    {
     "data": {
      "text/plain": [
       "(22571, 9)"
      ]
     },
     "execution_count": 157,
     "metadata": {},
     "output_type": "execute_result"
    }
   ],
   "source": [
    "covid_data_pfizer.shape"
   ]
  },
  {
   "cell_type": "code",
   "execution_count": 158,
   "id": "647f966a",
   "metadata": {},
   "outputs": [],
   "source": [
    "covid_data_pfizer.to_csv(\"COVID_PFIZER_BIONTECH.csv\")"
   ]
  },
  {
   "cell_type": "code",
   "execution_count": 32,
   "id": "fe64bcc8",
   "metadata": {},
   "outputs": [],
   "source": [
    "# import re\n",
    "# if re.search(r'VAX', i):\n",
    "#     print(i)\n",
    "# if i.find(\"VAX\") == -1:\n",
    "#     print(1)"
   ]
  }
 ],
 "metadata": {
  "kernelspec": {
   "display_name": "Python 3 (ipykernel)",
   "language": "python",
   "name": "python3"
  },
  "language_info": {
   "codemirror_mode": {
    "name": "ipython",
    "version": 3
   },
   "file_extension": ".py",
   "mimetype": "text/x-python",
   "name": "python",
   "nbconvert_exporter": "python",
   "pygments_lexer": "ipython3",
   "version": "3.9.12"
  }
 },
 "nbformat": 4,
 "nbformat_minor": 5
}
